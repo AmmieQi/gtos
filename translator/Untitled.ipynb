{
 "cells": [
  {
   "cell_type": "code",
   "execution_count": 1,
   "metadata": {},
   "outputs": [
    {
     "name": "stdout",
     "output_type": "stream",
     "text": [
      "read from ../data/de/train.txt, 226517 instances\n",
      "read from ../data/de/dev.txt, 2169 instances\n",
      "read from ../data/de/test.txt, 2999 instances\n"
     ]
    }
   ],
   "source": [
    "from extract import read_file\n",
    "\n",
    "\n",
    "data0 = read_file('../data/de/train.txt')\n",
    "data1 = read_file('../data/de/dev.txt')\n",
    "data2 = read_file('../data/de/test.txt')\n",
    "data = data0 + data1 + data2\n"
   ]
  },
  {
   "cell_type": "code",
   "execution_count": 2,
   "metadata": {},
   "outputs": [
    {
     "name": "stdout",
     "output_type": "stream",
     "text": [
      "87219 92\n",
      "nodes 23.285024926084986\n",
      "edges 22.285024926084986\n",
      "diameter 8.420812741437729\n"
     ]
    }
   ],
   "source": [
    "import networkx as nx\n",
    "import numpy as np\n",
    "concept = set()\n",
    "relation = set()\n",
    "result = []\n",
    "for d in data:\n",
    "    nodes = len(d.graph.nodes())\n",
    "    edges = len(d.graph.edges())\n",
    "    assert edges % 2 == 0\n",
    "    edges = edges / 2\n",
    "    for x in d.graph.nodes():\n",
    "        concept.add(d.name2concept[x])\n",
    "    for y in d.graph.edges():\n",
    "        relation.add(d.graph[y[0]][y[1]]['label'])\n",
    "    diameter = nx.algorithms.distance_measures.diameter(d.graph)\n",
    "    result.append([nodes, edges, diameter])\n",
    "    \n",
    "print (len(concept), len(relation))\n",
    "x = np.array(result)\n",
    "print ('nodes', x[:,0].mean())\n",
    "print ('edges', x[:,1].mean())\n",
    "print ('diameter', x[:,2].mean())"
   ]
  },
  {
   "cell_type": "code",
   "execution_count": null,
   "metadata": {},
   "outputs": [],
   "source": []
  },
  {
   "cell_type": "code",
   "execution_count": 3,
   "metadata": {},
   "outputs": [
    {
     "name": "stdout",
     "output_type": "stream",
     "text": [
      "read from ../data/cs/train.txt, 180986 instances\n",
      "read from ../data/cs/dev.txt, 2656 instances\n",
      "read from ../data/cs/test.txt, 2999 instances\n",
      "78017 92\n",
      "nodes 23.18022299494752\n",
      "edges 22.18022299494752\n",
      "diameter 8.363092782400438\n"
     ]
    }
   ],
   "source": [
    "from extract import read_file\n",
    "\n",
    "\n",
    "data0 = read_file('../data/cs/train.txt')\n",
    "data1 = read_file('../data/cs/dev.txt')\n",
    "data2 = read_file('../data/cs/test.txt')\n",
    "data = data0 + data1 + data2\n",
    "\n",
    "import networkx as nx\n",
    "import numpy as np\n",
    "concept = set()\n",
    "relation = set()\n",
    "result = []\n",
    "for d in data:\n",
    "    nodes = len(d.graph.nodes())\n",
    "    edges = len(d.graph.edges())\n",
    "    assert edges % 2 == 0\n",
    "    edges = edges / 2\n",
    "    for x in d.graph.nodes():\n",
    "        concept.add(d.name2concept[x])\n",
    "    for y in d.graph.edges():\n",
    "        relation.add(d.graph[y[0]][y[1]]['label'])\n",
    "    diameter = nx.algorithms.distance_measures.diameter(d.graph)\n",
    "    result.append([nodes, edges, diameter])\n",
    "    \n",
    "print (len(concept), len(relation))\n",
    "x = np.array(result)\n",
    "print ('nodes', x[:,0].mean())\n",
    "print ('edges', x[:,1].mean())\n",
    "print ('diameter', x[:,2].mean())"
   ]
  },
  {
   "cell_type": "code",
   "execution_count": null,
   "metadata": {},
   "outputs": [],
   "source": []
  }
 ],
 "metadata": {
  "kernelspec": {
   "display_name": "Python 3",
   "language": "python",
   "name": "python3"
  },
  "language_info": {
   "codemirror_mode": {
    "name": "ipython",
    "version": 3
   },
   "file_extension": ".py",
   "mimetype": "text/x-python",
   "name": "python",
   "nbconvert_exporter": "python",
   "pygments_lexer": "ipython3",
   "version": "3.6.4"
  }
 },
 "nbformat": 4,
 "nbformat_minor": 2
}
