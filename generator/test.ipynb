{
 "cells": [
  {
   "cell_type": "code",
   "execution_count": 1,
   "metadata": {},
   "outputs": [
    {
     "name": "stdout",
     "output_type": "stream",
     "text": [
      "bad concept instance i imperative\n",
      "read from ../data/AMR/amr_2.0/test.txt.features, 1371 amrs\n"
     ]
    }
   ],
   "source": [
    "from extract import read_file\n",
    "import networkx as nx\n",
    "\n",
    "#amrs, token, lemma, abstract = read_file('../data/AMR/amr_2.0/train.txt.features')\n",
    "#amrs1, token, lemma, abstract = read_file('../data/AMR/amr_2.0/dev.txt.features')\n",
    "amrs, token, lemma, abstract = read_file('../data/AMR/amr_2.0/test.txt.features')\n",
    "#amrs = amrs0 + amrs1 + amrs2"
   ]
  },
  {
   "cell_type": "code",
   "execution_count": 2,
   "metadata": {},
   "outputs": [],
   "source": [
    "#graph size, diameter, reentrancies"
   ]
  },
  {
   "cell_type": "code",
   "execution_count": 3,
   "metadata": {},
   "outputs": [
    {
     "name": "stdout",
     "output_type": "stream",
     "text": [
      "184 4062\n"
     ]
    }
   ],
   "source": [
    "bad = 0\n",
    "concept = set()\n",
    "relation = set()\n",
    "result = []\n",
    "for amr in amrs:\n",
    "    diameter = nx.algorithms.distance_measures.diameter(amr.graph)\n",
    "    nodes = len(amr.graph.nodes())\n",
    "    edges = len(amr.graph.edges())\n",
    "    for x in amr.graph.nodes():\n",
    "        concept.add(amr.name2concept[x])\n",
    "    for y in amr.graph.edges():\n",
    "        relation.add(amr.graph[y[0]][y[1]]['label'])\n",
    "    edges = edges / 2\n",
    "    reentrancies = 0\n",
    "    for x in amr.graph.nodes():\n",
    "        cnt = 0\n",
    "        for y in amr.graph[x]:\n",
    "            if amr.graph[x][y]['label'].endswith('_reverse_'):\n",
    "                cnt +=1\n",
    "        if not cnt >= 1:\n",
    "            bad +=1\n",
    "        reentrancies += max(0, cnt-1)\n",
    "    result.append([nodes, edges, diameter, reentrancies])\n",
    "print (len(relation), len(concept))"
   ]
  },
  {
   "cell_type": "code",
   "execution_count": 4,
   "metadata": {},
   "outputs": [
    {
     "name": "stdout",
     "output_type": "stream",
     "text": [
      "node 19.338439095550694 163.0\n",
      "edges 19.794310722100658 172.0\n",
      "diameter 7.358862144420131 18.0\n",
      "reentrancies 4.116703136396791 38.0\n"
     ]
    }
   ],
   "source": [
    "import numpy as np\n",
    "\n",
    "x = np.array(result)\n",
    "print ('node', x[:,0].mean(), x[:,0].max())\n",
    "print ('edges', x[:,1].mean(), x[:,1].max())\n",
    "print ('diameter', x[:,2].mean(), x[:,2].max())\n",
    "print ('reentrancies', x[:,3].mean(), x[:,3].max())"
   ]
  },
  {
   "cell_type": "code",
   "execution_count": 5,
   "metadata": {},
   "outputs": [
    {
     "name": "stdout",
     "output_type": "stream",
     "text": [
      "1371 1371 1371 1371\n"
     ]
    }
   ],
   "source": [
    "meteor_our = [float(line.strip().split()[-1]) for line in open('check/meteor_our').readlines() if line.startswith('Segment')]\n",
    "meteor_other = [float(line.strip().split()[-1]) for line in open('check/meteor_other').readlines() if line.startswith('Segment')]\n",
    "chrf_our =  [float(line.strip().split()[-1]) for line in open('check/oursss').readlines() if line.strip()][1:-3]\n",
    "chrf_other =  [float(line.strip().split()[-1]) for line in open('check/chrf_other').readlines() if line.strip()][1:-3]\n",
    "\n",
    "print (len(meteor_our), len(meteor_other), len(chrf_our), len(chrf_other))\n",
    "\n"
   ]
  },
  {
   "cell_type": "code",
   "execution_count": 6,
   "metadata": {},
   "outputs": [],
   "source": [
    "def make_average(k, v, v1, l, r):\n",
    "    assert len(k) == len(v) == len(v1)\n",
    "    tot = [_v for _k, _v in zip(k, v) if l<=_k<=r]\n",
    "    tot1 = [_v for _k, _v in zip(k, v1) if l<=_k<=r]\n",
    "    assert len(tot) > 0 and len(tot) == len(tot1)\n",
    "    avg = sum(tot) / len(tot)\n",
    "    avg1 = sum(tot1) / len(tot1)\n",
    "    print ('[%d %d]'%(l, r), avg, avg1, avg-avg1, ((avg-avg1)/avg1), len(tot))"
   ]
  },
  {
   "cell_type": "code",
   "execution_count": 7,
   "metadata": {},
   "outputs": [
    {
     "name": "stdout",
     "output_type": "stream",
     "text": [
      "[1 20] 60.83956666666664 60.434219927536205 0.4053467391304366 0.006707238707084638 828\n",
      "[21 30] 61.50216557377045 59.09077606557374 2.411389508196706 0.04080822200610055 305\n",
      "[31 40] 60.73613812499999 58.59999812499999 2.1361399999999975 0.036452902190259207 160\n",
      "[41 163] 55.78283589743593 54.8409 0.9419358974359326 0.017175792108370443 78\n",
      "[1 163] 60.68721006564551 59.60307126185272 1.08413880379279 0.018189311068046634 1371\n",
      "####################\n",
      "[1 7] 60.73150207407407 60.8121297777778 -0.08062770370372618 -0.001325849036999021 675\n",
      "[8 14] 60.591619219219176 58.59389144144145 1.997727777777726 0.03409447177227082 666\n",
      "[15 18] 57.178693333333335 54.53525333333334 2.6434399999999982 0.0484721320325152 15\n",
      "[0 18] 60.68721006564551 59.60307126185272 1.08413880379279 0.018189311068046634 1371\n",
      "####################\n",
      "[0 1] 63.22698969849243 63.90919422110558 -0.6822045226131479 -0.010674591205968522 398\n",
      "[2 3] 63.25171379310342 61.20885987460814 2.0428539184952825 0.03337513429722842 319\n",
      "[4 5] 59.835844274809205 57.66920152671753 2.1666427480916752 0.03757018808536637 262\n",
      "[5 38] 57.258495192307684 55.85433480769233 1.404160384615352 0.025139685029817404 520\n",
      "[0 38] 60.68721006564551 59.60307126185272 1.08413880379279 0.018189311068046634 1371\n"
     ]
    }
   ],
   "source": [
    "make_average(x[:,0], chrf_our, chrf_other, 1, 20)\n",
    "make_average(x[:,0], chrf_our, chrf_other, 21, 30)\n",
    "make_average(x[:,0], chrf_our, chrf_other, 31, 40)\n",
    "make_average(x[:,0], chrf_our, chrf_other, 41, x[:,0].max())\n",
    "make_average(x[:,0], chrf_our, chrf_other, x[:,0].min(), x[:,0].max())\n",
    "\n",
    "print ('####################')\n",
    "make_average(x[:,2], chrf_our, chrf_other, 1, 7)\n",
    "make_average(x[:,2], chrf_our, chrf_other, 8, 14)\n",
    "make_average(x[:,2], chrf_our, chrf_other, 15, x[:,2].max())\n",
    "make_average(x[:,2], chrf_our, chrf_other, x[:,2].min(), x[:,2].max())\n",
    "\n",
    "print ('####################')\n",
    "make_average(x[:,3], chrf_our, chrf_other, 0, 1)\n",
    "make_average(x[:,3], chrf_our, chrf_other, 2, 3)\n",
    "make_average(x[:,3], chrf_our, chrf_other, 4, 5)\n",
    "make_average(x[:,3], chrf_our, chrf_other, 5, x[:,3].max())\n",
    "make_average(x[:,3], chrf_our, chrf_other, x[:,3].min(), x[:,3].max())"
   ]
  },
  {
   "cell_type": "code",
   "execution_count": null,
   "metadata": {},
   "outputs": [],
   "source": []
  },
  {
   "cell_type": "code",
   "execution_count": null,
   "metadata": {},
   "outputs": [],
   "source": []
  }
 ],
 "metadata": {
  "kernelspec": {
   "display_name": "Python 3",
   "language": "python",
   "name": "python3"
  },
  "language_info": {
   "codemirror_mode": {
    "name": "ipython",
    "version": 3
   },
   "file_extension": ".py",
   "mimetype": "text/x-python",
   "name": "python",
   "nbconvert_exporter": "python",
   "pygments_lexer": "ipython3",
   "version": "3.6.4"
  }
 },
 "nbformat": 4,
 "nbformat_minor": 2
}
